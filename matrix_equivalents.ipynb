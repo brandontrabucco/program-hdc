{
 "cells": [
  {
   "cell_type": "markdown",
   "metadata": {},
   "source": [
    "# Matrix Equivalents from the Hypercomplex Algebra\n",
    "\n",
    "Two numbers from a hypercomplex algebra $z, w \\in \\mathbb{H}^N$ can be multiplied such that the result $m = zw, m \\in \\mathbb{H}^N$ is an element of the same algebra. The space is closed under addition as well, and so hypercomplex algebras are also vector spaces.\n",
    "\n",
    "The map between an elementwise product of two hypercomplex vector  $\\hat{z}, \\hat{w} \\in \\mathbb{H}^{M \\times N}$ can be viewed as as a linear transformation on the elements of the right factor of the product $\\hat{m} = \\hat{z} \\hat{w} = A \\hat{w}$.\n",
    "\n",
    "Here the matrix $A$ depends on the entries of the geometric vector $\\hat{z}$. In this notebook, we explore a systematic way to generate these transformation matrices.\n",
    "\n",
    "$\\hat{z}, \\hat{w} \\in \\mathbb{H}^{M \\times N}$\n",
    "\n",
    "$\\hat{m} \\in \\mathbb{H}^{M \\times N}, \\hat{z} \\hat{w} = \\hat{m} $\n",
    "\n",
    "frame as a linear transformation with matrix $A_{[\\hat{z}]}$ conitioned on $\\hat{z}$\n",
    "\n",
    "$ A_{[\\hat{z}]} \\hat{w} = \\hat{m} $ \n",
    "\n",
    "estimate $A_{[\\hat{z}]}$ given $\\hat{w}, \\hat{m}$ with a static $\\hat{z}$ by randomly sampling $\\hat{w}$ and computing $\\hat{m}$\n",
    "\n",
    "$ A_{[\\hat{z}]}[t] \\in \\mathbb{R}^{N \\times N}, A_{[\\hat{z}]}[t + 1] = (\\hat{y} \\hat{x}^{T} + \\gamma A_{[\\hat{z}]}[t])(\\hat{x} \\hat{x}^{T} + \\gamma I)^{-1} $\n",
    "\n",
    "Why does this converge to the right matrix?\n",
    "Why does this converge to a full rank matrix?\n",
    "Is this matrix different or equivalent to hypercomplex vector a?"
   ]
  },
  {
   "cell_type": "code",
   "execution_count": 1,
   "metadata": {
    "collapsed": true
   },
   "outputs": [],
   "source": [
    "import numpy as np\n",
    "import matplotlib.pyplot as plt"
   ]
  },
  {
   "cell_type": "code",
   "execution_count": 2,
   "metadata": {
    "collapsed": true
   },
   "outputs": [],
   "source": [
    "def hypercomplex_conjugate(a):\n",
    "    c = np.ones(a.shape)\n",
    "    c[..., 1:] *= -1\n",
    "    return c * a\n",
    "def hypercomplex_multiply(a, b):\n",
    "    if a.shape[-1] == 1:\n",
    "        return a * b\n",
    "    else:\n",
    "        def cayley_dickson(p, q, r, s):\n",
    "            return np.concatenate([\n",
    "                (hypercomplex_multiply(\n",
    "                    p,\n",
    "                    r) -\n",
    "                hypercomplex_multiply(\n",
    "                    hypercomplex_conjugate(s),\n",
    "                    q)),\n",
    "                (hypercomplex_multiply(\n",
    "                    s,\n",
    "                    p) +\n",
    "                hypercomplex_multiply(\n",
    "                    q,\n",
    "                    hypercomplex_conjugate(r))),\n",
    "            ], axis=(len(a.shape) - 1))\n",
    "        return cayley_dickson(\n",
    "            a[..., :(a.shape[-1] // 2)],\n",
    "            a[..., (a.shape[-1] // 2):],\n",
    "            b[..., :(a.shape[-1] // 2)],\n",
    "            b[..., (a.shape[-1] // 2):])"
   ]
  },
  {
   "cell_type": "code",
   "execution_count": 3,
   "metadata": {
    "collapsed": true
   },
   "outputs": [],
   "source": [
    "def hypercomplex_conjugate_gradient(a, da):\n",
    "    return hypercomplex_conjugate(da)   \n",
    "def hypercomplex_multiply_gradient(a, b, da, db):\n",
    "    return (hypercomplex_multiply(da, b),\n",
    "        hypercomplex_multiply(a, db))\n",
    "def hypercomplex_basis_gradient(a):\n",
    "    basis = np.zeros((a.shape[-1], a.shape[-1]))\n",
    "    np.fill_diagonal(basis, 1)\n",
    "    basis = basis.reshape((1, a.shape[-1], a.shape[-1]))\n",
    "    return basis"
   ]
  },
  {
   "cell_type": "code",
   "execution_count": 4,
   "metadata": {
    "collapsed": true
   },
   "outputs": [],
   "source": [
    "class HCX(object):\n",
    "    def random(*kdims, hcx_size=1, mean=0, std=1):\n",
    "        shape = [\n",
    "            kdims[i] if i < len(kdims) \n",
    "            else 2**hcx_size\n",
    "            for i in range(len(kdims) + 1)]\n",
    "        return np.random.normal(mean, std, shape)\n",
    "    def basis(x, dx=0, dir=1):\n",
    "        if dir > 0:\n",
    "            return x\n",
    "        else:\n",
    "            return hypercomplex_basis_gradient(x)\n",
    "    def conj(x, dx=0, dir=1):\n",
    "        if dir > 0:\n",
    "            return hypercomplex_conjugate(x)\n",
    "        else:\n",
    "            return hypercomplex_conjugate_gradient(x, dx)\n",
    "    def add(x, y, dx=0, dy=0, dir=1):\n",
    "        if dir > 0:\n",
    "            return x + y\n",
    "        else:\n",
    "            return dx, dy\n",
    "    def sub(x, y, dx=0, dy=0, dir=1):\n",
    "        if dir > 0:\n",
    "            return x - y\n",
    "        else:\n",
    "            return dx, -dy\n",
    "    def mul(x, y, dx=0, dy=0, dir=1):\n",
    "        if dir > 0:\n",
    "            return hypercomplex_multiply(x, y)\n",
    "        else:\n",
    "            return hypercomplex_multiply_gradient(x, y, dx, dy)\n",
    "    def norm(x, dx=0, dir=1):\n",
    "        if dir > 0:\n",
    "            return np.sum(\n",
    "                hypercomplex_multiply(HCX.conj(x), x),\n",
    "                axis=(len(x.shape) - 1))**0.5\n",
    "        else:\n",
    "            c = 0.5 / np.sum(\n",
    "                hypercomplex_multiply(HCX.conj(x), x),\n",
    "                axis=(x.shape[-1] - 1))**0.5\n",
    "            g = hypercomplex_multiply_gradient(\n",
    "                HCX.conj(x), \n",
    "                x, \n",
    "                HCX.conj(x, dx, dir=-1), \n",
    "                dx)\n",
    "            r = HCX.conj(g[0]) + g[1]\n",
    "            return c * r\n",
    "    def inv(x, dx=0, dir=1):\n",
    "        if dir > 0:\n",
    "            return HCX.conj(x) / np.reshape(HCX.norm(x)**2, (-1, 1))\n",
    "        else:\n",
    "            return (HCX.conj(x, dx, dir=-1) \n",
    "                / HCX.norm(x)**2 \n",
    "                - 2 * HCX.conj(x) \n",
    "                / HCX.norm(x)**3\n",
    "                * HCX.norm(x, dx, dir=-1))"
   ]
  },
  {
   "cell_type": "code",
   "execution_count": 5,
   "metadata": {
    "scrolled": true
   },
   "outputs": [
    {
     "name": "stdout",
     "output_type": "stream",
     "text": [
      "Validation Loss: 8503.70241855\n",
      "Validation Loss: 351.600597325\n",
      "Validation Loss: 14.2963250144\n",
      "Validation Loss: 0.580349162686\n",
      "Validation Loss: 0.028797913631\n",
      "Validation Loss: 0.00107115941327\n",
      "Validation Loss: 3.70557734342e-05\n",
      "Validation Loss: 1.55183561216e-06\n",
      "Validation Loss: 6.17599993083e-08\n",
      "Validation Loss: 2.17271455948e-09\n",
      "Validation Loss: 9.67877590938e-11\n",
      "Validation Loss: 5.18808848901e-12\n",
      "Validation Loss: 2.19021587219e-13\n",
      "Validation Loss: 7.97304141779e-15\n",
      "Validation Loss: 2.71109297424e-16\n",
      "Validation Loss: 1.27677876108e-17\n",
      "Validation Loss: 4.56014582343e-19\n",
      "Validation Loss: 2.09589293323e-20\n",
      "Validation Loss: 1.9063466388e-21\n",
      "Iterations until Convergence: 1900\n"
     ]
    }
   ],
   "source": [
    "M = 5     # The hypercomplex size\n",
    "N = 100   # The vector elements\n",
    "T = 1e-20 # A convergenece threshold\n",
    "L = 0.05  # A hyperparameter to tune\n",
    "V = 100   # The number of validation steps\n",
    "D = 100   # The number of iterations before validating\n",
    "\n",
    "\n",
    "def validate(_a, _A):\n",
    "    _loss = 0.0\n",
    "    for i in range(V):\n",
    "        _b = HCX.random(N, 1, hcx_size=M).transpose(0, 2, 1)\n",
    "        _c = HCX.mul(\n",
    "            _a.transpose(0, 2, 1), \n",
    "            _b.transpose(0, 2, 1)).transpose(0, 2, 1)\n",
    "        _loss += np.sum(_c - np.matmul(_A, _b))**2 / V\n",
    "    return _loss\n",
    "\n",
    "\n",
    "a = HCX.random(N, 1, hcx_size=M).transpose(0, 2, 1)\n",
    "A = HCX.random(N, 2**M, hcx_size=M)\n",
    "I = np.reshape(np.eye(2**M), (1, 2**M, 2**M))\n",
    "\n",
    "\n",
    "loss = 1.0\n",
    "iterations = 0\n",
    "while loss > T:\n",
    "    iterations += 1\n",
    "    b = HCX.random(N, 1, hcx_size=M).transpose(0, 2, 1)\n",
    "    c = HCX.mul(\n",
    "        a.transpose(0, 2, 1), \n",
    "        b.transpose(0, 2, 1)).transpose(0, 2, 1)\n",
    "    A = np.matmul(\n",
    "        (c * b.transpose(0, 2, 1)) + L * A,\n",
    "        np.linalg.inv(\n",
    "            (b * b.transpose(0, 2, 1)) + L * I))\n",
    "    if iterations % D == 0:\n",
    "        loss = validate(a, A)\n",
    "        print(\"Validation Loss:\", loss)\n",
    "    \n",
    "\n",
    "print(\"Iterations until Convergence:\", iterations)"
   ]
  },
  {
   "cell_type": "code",
   "execution_count": 6,
   "metadata": {},
   "outputs": [
    {
     "name": "stdout",
     "output_type": "stream",
     "text": [
      "[  7.33654710e+16   1.31817327e+17   8.68601436e+18   1.20959725e+23\n",
      "   1.42016163e+20   1.79508154e+16   1.31836607e+16   2.58928903e+19\n",
      "   5.38538742e+22   1.84690720e+21   1.71293027e+17   4.90497290e+18\n",
      "   4.81180129e+22   1.13645383e+20   4.09735653e+19   1.74161517e+18\n",
      "   3.00236887e+22   6.04652357e+15   1.25438368e+23   8.79198493e+19\n",
      "   2.78752145e+16   1.02076061e+20   6.17642413e+24   2.16488833e+21\n",
      "   5.70675405e+18   8.99779116e+19   4.25840775e+17   1.67776126e+19\n",
      "   2.06628834e+19   2.63165048e+20   1.76515731e+18   9.63157385e+18\n",
      "   5.32036671e+22   6.16270434e+22   7.41605821e+20   1.90819544e+24\n",
      "   1.09388195e+19   9.74264416e+23   7.86003041e+18   1.59675326e+19\n",
      "   1.19821823e+22   2.17396215e+21   1.10810435e+21   5.91026352e+17\n",
      "   8.35750448e+19   2.73518379e+20   7.06657283e+21   7.17386410e+17\n",
      "   2.30308386e+20   3.19653651e+25   6.97293900e+19   3.29291631e+18\n",
      "   1.76762887e+22   3.45546836e+22   4.43931531e+20   2.14366382e+22\n",
      "   1.01318409e+15   5.41913675e+21   3.44950430e+14   5.74801116e+18\n",
      "   9.20154667e+22   1.05021577e+22   4.69494130e+17   3.89773658e+17\n",
      "   3.25617161e+14   6.74695107e+15   1.52845498e+22   9.59075768e+23\n",
      "   1.47169166e+19   2.67545966e+23   1.64477299e+21   4.34979163e+23\n",
      "   2.97599487e+22   6.89514237e+24   4.62139033e+21   4.40058528e+18\n",
      "   1.16289776e+16   3.35163358e+19   2.35026254e+21   1.56751246e+24\n",
      "   3.52749910e+16   1.33399753e+21   1.34767521e+19   1.61120325e+23\n",
      "   5.21757639e+18   1.35859476e+19   2.86324127e+21   2.89349981e+21\n",
      "   6.52721857e+20   3.74562906e+25   1.97055951e+21   1.11240235e+19\n",
      "   2.07141219e+18   1.89195296e+20   6.45854152e+19   7.26440386e+20\n",
      "   2.55916580e+19   1.44135031e+18   7.46750998e+15   2.53181443e+19]\n"
     ]
    }
   ],
   "source": [
    "print(np.linalg.det(A)) # This matrix is full rank"
   ]
  },
  {
   "cell_type": "code",
   "execution_count": null,
   "metadata": {},
   "outputs": [],
   "source": []
  },
  {
   "cell_type": "code",
   "execution_count": null,
   "metadata": {
    "collapsed": true
   },
   "outputs": [],
   "source": []
  }
 ],
 "metadata": {
  "kernelspec": {
   "display_name": "Python 3",
   "language": "python",
   "name": "python3"
  },
  "language_info": {
   "codemirror_mode": {
    "name": "ipython",
    "version": 3
   },
   "file_extension": ".py",
   "mimetype": "text/x-python",
   "name": "python",
   "nbconvert_exporter": "python",
   "pygments_lexer": "ipython3",
   "version": "3.6.1"
  }
 },
 "nbformat": 4,
 "nbformat_minor": 2
}
